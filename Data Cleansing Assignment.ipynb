{
 "cells": [
  {
   "cell_type": "code",
   "execution_count": null,
   "metadata": {},
   "outputs": [],
   "source": [
    "\"\"\"\n",
    "It happens all the time: someone gives you data containing malformed strings, Python, lists and missing data. How do you tidy it up so you can get on with the analysis?  \n",
    "Take this monstrosity as the DataFrame to use in the following puzzles:  \n",
    "df = pd.DataFrame({'From_To': ['LoNDon_paris', 'MAdrid_miLAN', 'londON_StockhOlm',  \n",
    "'Budapest_PaRis', 'Brussels_londOn'],  \n",
    "'FlightNumber': [10045, np.nan, 10065, np.nan, 10085],  \n",
    "'RecentDelays': [[23, 47], [], [24, 43, 87], [13], [67, 32]],  \n",
    "'Airline': ['KLM(!)', '<Air France> (12)', '(British Airways. )',  \n",
    "'12. Air France', '\"Swiss Air\"']}) \n",
    "\"\"\""
   ]
  },
  {
   "cell_type": "code",
   "execution_count": null,
   "metadata": {},
   "outputs": [],
   "source": [
    "import pandas as pd\n",
    "import numpy as np\n",
    "df = pd.DataFrame({'From_To': ['LoNDon_paris', 'MAdrid_miLAN', 'londON_StockhOlm',  \n",
    "'Budapest_PaRis', 'Brussels_londOn'],  \n",
    "'FlightNumber': [10045, np.nan, 10065, np.nan, 10085],  \n",
    "'RecentDelays': [[23, 47], [], [24, 43, 87], [13], [67, 32]],  \n",
    "'Airline': ['KLM(!)', '<Air France> (12)', '(British Airways. )',  \n",
    "'12. Air France', '\"Swiss Air\"']}) \n"
   ]
  },
  {
   "cell_type": "code",
   "execution_count": null,
   "metadata": {},
   "outputs": [],
   "source": [
    "print(df)"
   ]
  },
  {
   "cell_type": "code",
   "execution_count": null,
   "metadata": {},
   "outputs": [],
   "source": [
    "#1. Some values in the the FlightNumber column are missing. These numbers are meant to increase by 10 with each row so 10055 and 10075 need to be put in place. Fill in these missing numbers and make the column an integer column (instead of a float column).\n",
    "import math\n",
    "templist=[]\n",
    "templist=df[\"FlightNumber\"]\n",
    "templist=pd.Series(templist,dtype=int)\n",
    "\n",
    "for i in range(0,len(templist)):\n",
    "    if(math.isnan(templist[i])):\n",
    "        templist[i]=int(templist[i-1]+10)\n",
    "df.drop(\"FlightNumber\",1)        \n",
    "df[\"FlightNumber\"]=templist\n",
    "print(df)"
   ]
  },
  {
   "cell_type": "code",
   "execution_count": null,
   "metadata": {},
   "outputs": [],
   "source": [
    " #2. The From_To column would be better as two separate columns! Split each string on the underscore delimiter _ to give a new temporary DataFrame with the correct values. Assign the correct column names to this temporary DataFrame. \n",
    "\n",
    "fname=[]\n",
    "lname=[]\n",
    "\n",
    "for i in range(0,len(df)):\n",
    "    string=df[\"From_To\"][i].split(\"_\")\n",
    "    fname.append(string[0])\n",
    "    lname.append(string[1])\n",
    "\n",
    "data={\"From\":fname,\"To\":lname}\n",
    "\n",
    "FromToDf=pd.DataFrame(data)  \n",
    "\n",
    "print(FromToDf)\n",
    "    "
   ]
  },
  {
   "cell_type": "code",
   "execution_count": null,
   "metadata": {},
   "outputs": [],
   "source": [
    "#3. Notice how the capitalisation of the city names is all mixed up in this temporary DataFrame. Standardise the strings so that only the first letter is uppercase (e.g. \"londON\" should become \"London\".) \n",
    "for i in range(0,len(FromToDf[\"From\"])):\n",
    "    FromToDf[\"From\"][i]=FromToDf[\"From\"][i].capitalize()\n",
    "    FromToDf[\"To\"][i]=FromToDf[\"To\"][i].capitalize()\n",
    "    \n",
    "print(FromToDf)"
   ]
  },
  {
   "cell_type": "code",
   "execution_count": null,
   "metadata": {},
   "outputs": [],
   "source": [
    "#4. Delete the From_To column from df and attach the temporary DataFrame from the previous questions. \n",
    "df = df.drop('From_To', 1)\n",
    "df[\"From\"]=FromToDf[\"From\"]\n",
    "df[\"To\"]=FromToDf[\"To\"]\n",
    "print(df)"
   ]
  },
  {
   "cell_type": "code",
   "execution_count": null,
   "metadata": {},
   "outputs": [],
   "source": [
    "\"\"\"\n",
    "5. In the RecentDelays column, the values have been entered into the DataFrame as a list. We would like each first value in its own column, each \n",
    "second value in its own column, and so on. If there isn't an Nth value, the value should be NaN.  \n",
    "Expand the Series of lists into a DataFrame named delays, rename the columns delay_1, delay_2, etc. and replace the unwanted RecentDelays column in df with delays.\n",
    "\"\"\"\n",
    "\n",
    "templist=[]\n",
    "max=-1\n",
    "for i in range(0,len(df[\"RecentDelays\"])):\n",
    "    templist.append(df[\"RecentDelays\"][i])\n",
    "    if((len(df[\"RecentDelays\"][i]))>max):\n",
    "        max=len(df[\"RecentDelays\"][i])\n",
    "\n",
    "                \n",
    "#print(templist)\n",
    "#print(max)\n",
    "\n",
    "dictionary={}\n",
    "for i in range(0,max):\n",
    "    index=i+1\n",
    "    string=\"delay_\"+str(index)\n",
    "    dictionary[string]=[]\n",
    "#print(dictionary)\n",
    "\n",
    "diclist=[]\n",
    "for i in range(0,len(templist)):\n",
    "    list1=[]\n",
    "    nanlist=[]\n",
    "    for j in range(0,len(templist[i])):\n",
    "        list1.append(templist[i][j])\n",
    "    for k in range(0,max):\n",
    "        nanlist.append(np.nan)\n",
    "    for l in range(0,len(list1)):\n",
    "        nanlist[l]=list1[l]\n",
    "    #print(nanlist)\n",
    "    diclist.append(nanlist)\n",
    "\n",
    "#print(diclist)\n",
    "\n",
    "inc=0\n",
    "while(inc<max):\n",
    "    list1=[]\n",
    "    for i in range(0,len(diclist)):\n",
    "        list1.append(diclist[i][inc])\n",
    "    #print(list1)\n",
    "    index=inc+1\n",
    "    string=\"delay_\"+str(index)\n",
    "    #print(string)\n",
    "    dictionary[string]=list1\n",
    "    inc=inc+1\n",
    "    \n",
    "newdataframe=pd.DataFrame(dictionary)\n",
    "\n",
    "#print(\"************NewDF**************\")\n",
    "#print(newdataframe)\n",
    "\n",
    "for i in range(0,max):\n",
    "    index=i+1\n",
    "    string=\"delay_\"+str(index)\n",
    "    df[string]=newdataframe[string]\n",
    "    \n",
    "df=df.drop(\"RecentDelays\",1)\n",
    "print(\"****************OriginalDF************\")\n",
    "print(df)\n",
    "          "
   ]
  }
 ],
 "metadata": {
  "kernelspec": {
   "display_name": "Python 3",
   "language": "python",
   "name": "python3"
  },
  "language_info": {
   "codemirror_mode": {
    "name": "ipython",
    "version": 3
   },
   "file_extension": ".py",
   "mimetype": "text/x-python",
   "name": "python",
   "nbconvert_exporter": "python",
   "pygments_lexer": "ipython3",
   "version": "3.7.4"
  }
 },
 "nbformat": 4,
 "nbformat_minor": 2
}
