{
 "cells": [
  {
   "cell_type": "code",
   "execution_count": 16,
   "metadata": {},
   "outputs": [
    {
     "name": "stdout",
     "output_type": "stream",
     "text": [
      "\n",
      "* \n",
      "* * \n",
      "* * * \n",
      "* * * * \n",
      "* * * * * \n",
      "* * * * * \n",
      "* * * * \n",
      "* * * \n",
      "* * \n",
      "* \n",
      "\n"
     ]
    }
   ],
   "source": [
    "#1. Create the below pattern using nested for loop in Python.\n",
    "\n",
    "\"\"\"\n",
    "*  \n",
    "* * \n",
    "* * * \n",
    "* * * * \n",
    "* * * * *  \n",
    "* * * * \n",
    "* * * \n",
    "* * \n",
    "*   \n",
    "\"\"\"\n",
    "import math\n",
    "n=5\n",
    "for i in range(1,n+2):\n",
    "    for j in range(1,i):\n",
    "        print(\"* \",end=\"\")\n",
    "    print(\"\")\n",
    "for i in range(1,n+2):\n",
    "    for j in range(1,abs(n+2-i)):\n",
    "        print(\"* \",end=\"\")\n",
    "    print(\"\")"
   ]
  },
  {
   "cell_type": "code",
   "execution_count": 18,
   "metadata": {},
   "outputs": [
    {
     "name": "stdout",
     "output_type": "stream",
     "text": [
      "sanjay\n",
      "yajnas\n"
     ]
    }
   ],
   "source": [
    "#2. Write a Python program to reverse a word after accepting the input from the user.\n",
    "#Input word: ineuron\n",
    "#Output: norueni\n",
    "inputstring=input()\n",
    "reverse=inputstring[::-1]\n",
    "print(reverse)"
   ]
  },
  {
   "cell_type": "code",
   "execution_count": null,
   "metadata": {},
   "outputs": [],
   "source": []
  }
 ],
 "metadata": {
  "kernelspec": {
   "display_name": "Python 3",
   "language": "python",
   "name": "python3"
  },
  "language_info": {
   "codemirror_mode": {
    "name": "ipython",
    "version": 3
   },
   "file_extension": ".py",
   "mimetype": "text/x-python",
   "name": "python",
   "nbconvert_exporter": "python",
   "pygments_lexer": "ipython3",
   "version": "3.7.4"
  }
 },
 "nbformat": 4,
 "nbformat_minor": 2
}
