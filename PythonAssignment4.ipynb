{
 "cells": [
  {
   "cell_type": "code",
   "execution_count": 27,
   "metadata": {},
   "outputs": [
    {
     "name": "stdout",
     "output_type": "stream",
     "text": [
      "Area of the triangle is  6.0\n"
     ]
    }
   ],
   "source": [
    "\"\"\"1.1 Write a Python Program(with class concepts) to find the area of the triangle using the below\n",
    "formula.\n",
    "area = (s*(s-a)*(s-b)*(s-c)) ** 0.5\n",
    "Function to take the length of the sides of triangle from user should be defined in the parent\n",
    "class and function to calculate the area should be defined in subclass.\n",
    "\"\"\"\n",
    "\n",
    "class parent:\n",
    "    def __init__(self,a,b,c):\n",
    "        self.a = a\n",
    "        self.b = b\n",
    "        self.c = c\n",
    "\n",
    "class child(parent):\n",
    "    def __init__(self,a,b,c):\n",
    "        super().__init__(a,b,c)\n",
    "    \n",
    "    def calarea(self):\n",
    "        s=(self.a+self.b+self.c)/2\n",
    "        area=float((s*(s-self.a)*(s-self.b)*(s-self.c)) ** 0.5)\n",
    "        return area\n",
    "\n",
    "c1=child(4,5,3)\n",
    "output=c1.calarea()\n",
    "print(\"Area of the triangle is \",output)\n",
    "        \n"
   ]
  },
  {
   "cell_type": "code",
   "execution_count": 3,
   "metadata": {},
   "outputs": [
    {
     "name": "stdout",
     "output_type": "stream",
     "text": [
      "Enter the words with a space\n",
      "eewqew sadsa safsa\n",
      "['eewqew', 'sadsa', 'safsa']\n",
      "Enter the length\n",
      "2\n",
      "['eewqew', 'sadsa', 'safsa']\n"
     ]
    }
   ],
   "source": [
    "\"\"\"1.2 Write a function filter_long_words() that takes a list of words and an integer n and returns\n",
    "the list of words that are longer than n.\n",
    "\"\"\"\n",
    "def filter_long_words(list1,number):\n",
    "    list2=[]\n",
    "    for i in range(0,len(list1)):\n",
    "        if(len(list1[i])>number):\n",
    "            list2.append(list1[i])\n",
    "    return list2\n",
    "            \n",
    "print(\"Enter the words with a space\")\n",
    "list1=input().split(\" \")\n",
    "print(list1)\n",
    "\n",
    "print(\"Enter the length\")\n",
    "number=int(input())\n",
    "\n",
    "output=filter_long_words(list1,number)\n",
    "print(output)\n",
    "    \n",
    "    "
   ]
  },
  {
   "cell_type": "code",
   "execution_count": 4,
   "metadata": {},
   "outputs": [
    {
     "name": "stdout",
     "output_type": "stream",
     "text": [
      "Enter the words with a space\n",
      "xZXZ sdsa sdsa'\n",
      "['xZXZ', 'sdsa', \"sdsa'\"]\n",
      "[4, 4, 5]\n"
     ]
    }
   ],
   "source": [
    "\"\"\"2.1 Write a Python program using function concept that maps list of words into a list of integers\n",
    "representing the lengths of the corresponding words.\n",
    "Hint: If a list [ ab,cde,erty] is passed on to the python function output should come as [2,3,4]\n",
    "Here 2,3 and 4 are the lengths of the words in the list.\n",
    "\"\"\"\n",
    "\n",
    "def length(string):\n",
    "    return(len(string))\n",
    "    \n",
    "def matchwords(list1):\n",
    "    list2=[]\n",
    "    for i in range(0,len(list1)):\n",
    "        #list2.append(len(list1[i]))\n",
    "        list2=map(length,list1)\n",
    "    return list2\n",
    "\n",
    "\n",
    "print(\"Enter the words with a space\")\n",
    "list1=input().split(\" \")\n",
    "print(list1)\n",
    "\n",
    "output=list(matchwords(list1))\n",
    "print(output)\n"
   ]
  },
  {
   "cell_type": "code",
   "execution_count": 7,
   "metadata": {},
   "outputs": [
    {
     "name": "stdout",
     "output_type": "stream",
     "text": [
      "B\n",
      "False\n"
     ]
    }
   ],
   "source": [
    "\"\"\"2.2 Write a Python function which takes a character (i.e. a string of length 1) and returns True if\n",
    "it is a vowel, False otherwise.\n",
    "\"\"\"\n",
    "\n",
    "def validate(stringinput):\n",
    "    if(len(stringinput)!=1):\n",
    "        return \"Enter a single word input\"\n",
    "    \n",
    "    if( stringinput==\"A\" or  stringinput==\"E\" or  stringinput==\"I\" or  stringinput==\"O\" or  stringinput==\"U\" or\n",
    "        stringinput==\"a\" or  stringinput==\"e\" or  stringinput==\"i\" or  stringinput==\"o\" or  stringinput==\"u\" ):\n",
    "        return \"True\"\n",
    "    else:\n",
    "        return \"False\"\n",
    "        \n",
    "inputstring = str(input())\n",
    "output=validate(inputstring)\n",
    "print(output)"
   ]
  },
  {
   "cell_type": "code",
   "execution_count": null,
   "metadata": {},
   "outputs": [],
   "source": []
  }
 ],
 "metadata": {
  "kernelspec": {
   "display_name": "Python 3",
   "language": "python",
   "name": "python3"
  },
  "language_info": {
   "codemirror_mode": {
    "name": "ipython",
    "version": 3
   },
   "file_extension": ".py",
   "mimetype": "text/x-python",
   "name": "python",
   "nbconvert_exporter": "python",
   "pygments_lexer": "ipython3",
   "version": "3.7.4"
  }
 },
 "nbformat": 4,
 "nbformat_minor": 2
}
