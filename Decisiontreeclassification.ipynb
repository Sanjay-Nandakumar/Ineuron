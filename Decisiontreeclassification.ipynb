{
 "cells": [
  {
   "cell_type": "code",
   "execution_count": 1,
   "metadata": {},
   "outputs": [],
   "source": [
    "import numpy as np  \n",
    "import pandas as pd  "
   ]
  },
  {
   "cell_type": "code",
   "execution_count": 2,
   "metadata": {},
   "outputs": [],
   "source": [
    "#Python method to get the csv path\n",
    "def getData(path):\n",
    "    inputData = pd.read_csv(url) \n",
    "    initData=inputData\n",
    "    return inputData,initData\n",
    "url=  \"F:\\\\Datasets\\\\Titanic\\\\train.csv\" \n",
    "data,initData = getData(url)\n",
    "\n",
    "uniqueId = \"PassengerId\"\n",
    "target = \"Survived\"\n",
    "features = [\"Pclass\",\"Sex\",\"Age\",\"SibSp\",\"Parch\"]\n",
    "testsize=0.3\n",
    "#You use only Pclass, Sex, Age, SibSp (Siblings aboard), Parch (Parents/children aboard),\n",
    "#and Fare to predict whether a passenger survived\n",
    "#print(data.head(5))"
   ]
  },
  {
   "cell_type": "code",
   "execution_count": 3,
   "metadata": {},
   "outputs": [
    {
     "name": "stdout",
     "output_type": "stream",
     "text": [
      "   PassengerId  Survived  Pclass  \\\n",
      "0            1         0       3   \n",
      "1            2         1       1   \n",
      "2            3         1       3   \n",
      "3            4         1       1   \n",
      "4            5         0       3   \n",
      "5            6         0       3   \n",
      "6            7         0       1   \n",
      "7            8         0       3   \n",
      "8            9         1       3   \n",
      "9           10         1       2   \n",
      "\n",
      "                                                Name     Sex   Age  SibSp  \\\n",
      "0                            Braund, Mr. Owen Harris    male  22.0      1   \n",
      "1  Cumings, Mrs. John Bradley (Florence Briggs Th...  female  38.0      1   \n",
      "2                             Heikkinen, Miss. Laina  female  26.0      0   \n",
      "3       Futrelle, Mrs. Jacques Heath (Lily May Peel)  female  35.0      1   \n",
      "4                           Allen, Mr. William Henry    male  35.0      0   \n",
      "5                                   Moran, Mr. James    male   NaN      0   \n",
      "6                            McCarthy, Mr. Timothy J    male  54.0      0   \n",
      "7                     Palsson, Master. Gosta Leonard    male   2.0      3   \n",
      "8  Johnson, Mrs. Oscar W (Elisabeth Vilhelmina Berg)  female  27.0      0   \n",
      "9                Nasser, Mrs. Nicholas (Adele Achem)  female  14.0      1   \n",
      "\n",
      "   Parch            Ticket     Fare Cabin Embarked  \n",
      "0      0         A/5 21171   7.2500   NaN        S  \n",
      "1      0          PC 17599  71.2833   C85        C  \n",
      "2      0  STON/O2. 3101282   7.9250   NaN        S  \n",
      "3      0            113803  53.1000  C123        S  \n",
      "4      0            373450   8.0500   NaN        S  \n",
      "5      0            330877   8.4583   NaN        Q  \n",
      "6      0             17463  51.8625   E46        S  \n",
      "7      1            349909  21.0750   NaN        S  \n",
      "8      2            347742  11.1333   NaN        S  \n",
      "9      0            237736  30.0708   NaN        C  \n"
     ]
    }
   ],
   "source": [
    "if(uniqueId==\"\"):\n",
    "    uniqueId=uniqueId\n",
    "    uniqueIdGenerator=np.arange(1,len(data))\n",
    "    UqId=pd.DataFrame(list(uniqueIdGenerator),columns=[\"UniqueId\"])\n",
    "    #data=pd.concat([UqId,data],axis=1) \n",
    "    initData=pd.concat([UqId,data],axis=1) \n",
    "    uniqueId=initData.columns[0]\n",
    "print(initData.head(10))"
   ]
  },
  {
   "cell_type": "code",
   "execution_count": 4,
   "metadata": {},
   "outputs": [],
   "source": [
    "#Python method for handling nan values\n",
    "#Numerical columns replaced with mean\n",
    "#String columns replaced with mode\n",
    "from collections import Counter\n",
    "def dataCleaning(inputData,features,uniqueId,target):\n",
    "    updatedData =  inputData[target]   \n",
    "    dataForClean=pd.DataFrame()\n",
    "    for i in range(0,len(features)):\n",
    "        dataForClean=pd.concat([dataForClean,pd.DataFrame(inputData[features[i]])],axis=1)\n",
    "    dataForClean=pd.concat([dataForClean,pd.DataFrame(inputData[target])],axis=1)\n",
    "    inputData=dataForClean\n",
    "    for i in range(0,len(inputData.columns)):\n",
    "        colName=inputData.columns[i]\n",
    "        if( (inputData[colName].dtype.name==\"object\" and inputData[colName].dtype.name!= target) and colName != uniqueId):\n",
    "            mode=Counter(inputData[colName])\n",
    "            modeval= mode.most_common(1)[0][0]\n",
    "            inputData[colName]= inputData[colName].replace(np.NaN, modeval)\n",
    "        else:\n",
    "            inputData[colName]= inputData[colName].replace(np.NaN, np.mean(inputData[colName]))\n",
    "\n",
    "    \n",
    "    return inputData,updatedData\n",
    "\n",
    "data,updatedData=dataCleaning(data,features,uniqueId,target)\n",
    "#print(data.head(10))"
   ]
  },
  {
   "cell_type": "code",
   "execution_count": 5,
   "metadata": {},
   "outputs": [
    {
     "name": "stdout",
     "output_type": "stream",
     "text": [
      "     0    1  Pclass        Age  SibSp  Parch\n",
      "0  0.0  1.0       3  22.000000      1      0\n",
      "1  1.0  0.0       1  38.000000      1      0\n",
      "2  1.0  0.0       3  26.000000      0      0\n",
      "3  1.0  0.0       1  35.000000      1      0\n",
      "4  0.0  1.0       3  35.000000      0      0\n",
      "5  0.0  1.0       3  29.699118      0      0\n",
      "6  0.0  1.0       1  54.000000      0      0\n",
      "7  0.0  1.0       3   2.000000      3      1\n",
      "8  1.0  0.0       3  27.000000      0      2\n",
      "9  1.0  0.0       2  14.000000      1      0\n",
      "   Survived\n",
      "0         0\n",
      "1         1\n",
      "2         1\n",
      "3         1\n",
      "4         0\n",
      "5         0\n",
      "6         0\n",
      "7         0\n",
      "8         1\n",
      "9         1\n"
     ]
    }
   ],
   "source": [
    "#Python method for pre-processing the data\n",
    "#Categorical variables are label and one hot encoded\n",
    "def dataPreProcess(inputData,target):\n",
    "    from sklearn import preprocessing \n",
    "    labelencoder= preprocessing.LabelEncoder()\n",
    "    onehotencoder = preprocessing.OneHotEncoder(sparse=False)\n",
    "    notencoded = pd.DataFrame()\n",
    "    encoded = pd.DataFrame()\n",
    "    colNames=[]\n",
    "    for i in range(0,len(inputData.columns)):\n",
    "        colNames.append(inputData.columns[i])\n",
    "        \n",
    "    for i in range(0,len(colNames)):\n",
    "        colName=colNames[i]\n",
    "        if( (inputData[colName].dtype.name==\"object\" and inputData[colName].dtype.name!= target) and colNames[i] != uniqueId):\n",
    "            df =  labelencoder.fit_transform(inputData[colName])\n",
    "            df = np.array(inputData[colName])\n",
    "            df =   df.reshape(len(df),1)\n",
    "            onehot_encoded = onehotencoder.fit_transform(df)\n",
    "            onehot_encoded = pd.DataFrame(onehot_encoded)\n",
    "            #onehot_encoded = onehot_encoded.drop(len(onehot_encoded.columns)-1,axis=1)\n",
    "            encoded=pd.concat([onehot_encoded,encoded],axis=1)       \n",
    "        else:\n",
    "            notencoded=  pd.concat([notencoded,inputData[colName]],axis=1)\n",
    "    combinedData=pd.concat([encoded,notencoded],axis=1)\n",
    "    updatedData=pd.DataFrame()\n",
    "    updatedData=pd.concat([updatedData,combinedData],axis=1) \n",
    "    Y = pd.DataFrame() \n",
    "    Y = pd.DataFrame(updatedData[target])\n",
    "    del updatedData[target]\n",
    "    X = pd.DataFrame()\n",
    "    X = updatedData\n",
    "   \n",
    "    return X,Y\n",
    "\n",
    "X,Y=dataPreProcess(data,target)\n",
    "print(X.head(10))\n",
    "print(Y.head(10))"
   ]
  },
  {
   "cell_type": "code",
   "execution_count": 6,
   "metadata": {},
   "outputs": [
    {
     "name": "stdout",
     "output_type": "stream",
     "text": [
      "     0    1  Pclass   Age  SibSp  Parch\n",
      "0  0.0  1.0       3  22.0      1      0\n",
      "1  1.0  0.0       1  38.0      1      0\n",
      "2  1.0  0.0       3  26.0      0      0\n",
      "3  1.0  0.0       1  35.0      1      0\n",
      "4  0.0  1.0       3  35.0      0      0\n",
      "       0    1  Pclass   Age  SibSp  Parch\n",
      "623  0.0  1.0       3  21.0      0      0\n",
      "624  0.0  1.0       3  21.0      0      0\n",
      "625  0.0  1.0       1  61.0      0      0\n",
      "626  0.0  1.0       2  57.0      0      0\n",
      "627  1.0  0.0       1  21.0      0      0\n",
      "   Survived\n",
      "0         0\n",
      "1         1\n",
      "2         1\n",
      "3         1\n",
      "4         0\n",
      "     Survived\n",
      "623         0\n",
      "624         0\n",
      "625         0\n",
      "626         0\n",
      "627         1\n"
     ]
    }
   ],
   "source": [
    "def datasplit(X,Y,size):\n",
    "    from sklearn.model_selection import train_test_split\n",
    "    X_train, X_test, Y_train, Y_test = train_test_split( X, Y, test_size=size, shuffle=False)\n",
    "    return X_train, X_test, Y_train, Y_test\n",
    "X_train, X_test, Y_train, Y_test=datasplit(X,Y,testsize)\n",
    "print(X_train.head(5))\n",
    "print(X_test.head(5))\n",
    "print(Y_train.head(5))\n",
    "print(Y_test.head(5))"
   ]
  },
  {
   "cell_type": "code",
   "execution_count": 7,
   "metadata": {},
   "outputs": [],
   "source": [
    "def decsiontreeClassification(X_train, X_test, Y_train, Y_test):\n",
    "    from sklearn import tree\n",
    "    regressor = tree.DecisionTreeRegressor()\n",
    "    regressor.fit(X_train,Y_train)        \n",
    "    predictions = np.ceil(regressor.predict(X_test))\n",
    "    from sklearn import metrics       \n",
    "    cm = metrics.confusion_matrix(Y_test, predictions)\n",
    "    return predictions,cm"
   ]
  },
  {
   "cell_type": "code",
   "execution_count": 8,
   "metadata": {},
   "outputs": [
    {
     "name": "stdout",
     "output_type": "stream",
     "text": [
      ".........InputData............\n",
      "   PassengerId  Survived  Pclass  \\\n",
      "0            1         0       3   \n",
      "1            2         1       1   \n",
      "2            3         1       3   \n",
      "3            4         1       1   \n",
      "4            5         0       3   \n",
      "\n",
      "                                                Name     Sex   Age  SibSp  \\\n",
      "0                            Braund, Mr. Owen Harris    male  22.0      1   \n",
      "1  Cumings, Mrs. John Bradley (Florence Briggs Th...  female  38.0      1   \n",
      "2                             Heikkinen, Miss. Laina  female  26.0      0   \n",
      "3       Futrelle, Mrs. Jacques Heath (Lily May Peel)  female  35.0      1   \n",
      "4                           Allen, Mr. William Henry    male  35.0      0   \n",
      "\n",
      "   Parch            Ticket     Fare Cabin Embarked  \n",
      "0      0         A/5 21171   7.2500   NaN        S  \n",
      "1      0          PC 17599  71.2833   C85        C  \n",
      "2      0  STON/O2. 3101282   7.9250   NaN        S  \n",
      "3      0            113803  53.1000  C123        S  \n",
      "4      0            373450   8.0500   NaN        S  \n",
      ".............Unique and target variables..............\n",
      "UniqueId:  PassengerId\n",
      "Target variable:  Survived\n",
      ".........Input Data............\n",
      "   Pclass     Sex   Age  SibSp  Parch  Survived\n",
      "0       3    male  22.0      1      0         0\n",
      "1       1  female  38.0      1      0         1\n",
      "2       3  female  26.0      0      0         1\n",
      "3       1  female  35.0      1      0         1\n",
      "4       3    male  35.0      0      0         0\n",
      ".........Output Data............\n",
      "   PassengerId  Actual  Predicted\n",
      "0          624       0        1.0\n",
      "1          625       0        1.0\n",
      "2          626       0        0.0\n",
      "3          627       0        0.0\n",
      "4          628       1        1.0\n"
     ]
    }
   ],
   "source": [
    "predictions,cm=decsiontreeClassification(X_train, X_test, Y_train, Y_test)\n",
    "n=len(data)\n",
    "p=len(features)\n",
    "output1=pd.DataFrame(list(Y_test[target]),columns=[\"Actual\"])\n",
    "output2=pd.DataFrame(list(predictions),columns=[\"Predicted\"])\n",
    "prednactual=pd.concat([output1,output2],axis=1)\n",
    "testStart=initData[uniqueId][len(X_train):len(data)]\n",
    "testStart=pd.DataFrame(testStart,columns=[uniqueId])\n",
    "testStart.reset_index(drop=True, inplace=True)\n",
    "prednactual.reset_index(drop=True, inplace=True)\n",
    "prednactualfinal=pd.concat([testStart,prednactual],axis=1)\n",
    "truePositive = cm[0,0]\n",
    "falsePositive= cm[1,0]\n",
    "trueNegative= cm[1,1]\n",
    "falseNegative=cm[0,1]\n",
    "accuracy= (truePositive + trueNegative) / (truePositive+falsePositive+trueNegative+falseNegative)\n",
    "precision= (truePositive) /(truePositive + falsePositive)\n",
    "recall=   (truePositive) /(truePositive+falseNegative)\n",
    "f1score= (2*precision*recall) / (precision+recall)\n",
    "\n",
    "print(\".........InputData............\")\n",
    "print(initData.head(5))\n",
    "\n",
    "print(\".............Unique and target variables..............\")\n",
    "print(\"UniqueId: \",uniqueId)\n",
    "print(\"Target variable: \",target)\n",
    "\n",
    "print(\".........Input Data............\")\n",
    "print(data.head(5))\n",
    "\n",
    "\n",
    "print(\".........Output Data............\")\n",
    "print(prednactualfinal.head(5))\n",
    "\n"
   ]
  },
  {
   "cell_type": "code",
   "execution_count": 9,
   "metadata": {},
   "outputs": [
    {
     "name": "stdout",
     "output_type": "stream",
     "text": [
      ".............Evaluation metrics..............\n",
      "Accuracy:  0.6044776119402985\n",
      "cm:  [[82 90]\n",
      " [16 80]]\n",
      "Precision:  0.8367346938775511\n",
      "Recall:  0.47674418604651164\n",
      "F1Score:  0.6074074074074074\n"
     ]
    }
   ],
   "source": [
    "print(\".............Evaluation metrics..............\")\n",
    "print(\"Accuracy: \",accuracy)\n",
    "print(\"cm: \",cm)\n",
    "print(\"Precision: \",precision)\n",
    "print(\"Recall: \",recall)\n",
    "print(\"F1Score: \",f1score)"
   ]
  },
  {
   "cell_type": "code",
   "execution_count": 11,
   "metadata": {},
   "outputs": [
    {
     "data": {
      "image/png": "[encoded data removed]",
      "text/plain": [
       "<Figure size 432x288 with 1 Axes>"
      ]
     },
     "metadata": {
      "needs_background": "light"
     },
     "output_type": "display_data"
    }
   ],
   "source": [
    "import matplotlib.pyplot as plt\n",
    "fig=plt.figure()\n",
    "ax = fig.add_axes([0,0,2,2])\n",
    "y_axis_pred = prednactualfinal[\"Predicted\"]\n",
    "y_axis_actual = prednactualfinal[\"Actual\"]\n",
    "x_axis= prednactualfinal[uniqueId]\n",
    "ax.scatter(x_axis,y_axis_pred)\n",
    "ax.scatter(x_axis,y_axis_actual)\n",
    "ax.set_xlabel(\"UniqueId\")\n",
    "ax.set_ylabel(\"Affair\")\n",
    "ax.legend(labels=['Actual', 'Predicted'])\n",
    "plt.show()"
   ]
  },
  {
   "cell_type": "code",
   "execution_count": null,
   "metadata": {},
   "outputs": [],
   "source": []
  }
 ],
 "metadata": {
  "kernelspec": {
   "display_name": "Python 3",
   "language": "python",
   "name": "python3"
  },
  "language_info": {
   "codemirror_mode": {
    "name": "ipython",
    "version": 3
   },
   "file_extension": ".py",
   "mimetype": "text/x-python",
   "name": "python",
   "nbconvert_exporter": "python",
   "pygments_lexer": "ipython3",
   "version": "3.7.4"
  }
 },
 "nbformat": 4,
 "nbformat_minor": 2
}
