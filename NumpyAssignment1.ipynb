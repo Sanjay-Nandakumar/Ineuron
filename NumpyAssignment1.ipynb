{
 "cells": [
  {
   "cell_type": "code",
   "execution_count": 1,
   "metadata": {},
   "outputs": [
    {
     "name": "stdout",
     "output_type": "stream",
     "text": [
      "[[  1.   0.   0.   0.   0.]\n",
      " [  1.   1.   1.   1.   1.]\n",
      " [  1.   2.   4.   8.  16.]\n",
      " [  1.   3.   9.  27.  81.]\n",
      " [  1.   4.  16.  64. 256.]]\n"
     ]
    }
   ],
   "source": [
    "\"\"\"\n",
    "Write a function so that the columns of the output matrix are powers of the input  vector.  \n",
    "The order of the powers is determined by the increasing boolean argument. \n",
    "Specifically, when increasing is False, the i-th output column is the input vector raised element-wise to the power of N - i - 1.   \n",
    "HINT: Such a matrix with a geometric progression in each row is named for AlexandreTheophile Vandermonde.  \n",
    "\"\"\"\n",
    "import numpy as np\n",
    "import numpy.matlib\n",
    "\n",
    "array=np.array([0,1,2,3,4])\n",
    "\n",
    "\n",
    "largearray=np.array([])\n",
    "for i in range(0,len(array)):\n",
    "    smallarray=np.array([])\n",
    "    for j in range(0,len(array)):\n",
    "        smallarray=np.append(smallarray,array[j]**i)\n",
    "        #print(smallarray,array[j]**i)\n",
    "    #print(smallarray)\n",
    "    largearray=np.append(largearray,smallarray)\n",
    "\n",
    "matrix=numpy.matlib.array(largearray).reshape(len(smallarray),len(smallarray)).T\n",
    "print(matrix)\n"
   ]
  },
  {
   "cell_type": "code",
   "execution_count": 2,
   "metadata": {},
   "outputs": [
    {
     "name": "stdout",
     "output_type": "stream",
     "text": [
      "y1  =  4.25\n",
      "y2  =  5.5\n",
      "y3  =  6.75\n",
      "y4  =  7.75\n",
      "y5  =  23.5\n",
      "y6  =  39.5\n",
      "y7  =  57.25\n",
      "y8  =  79.25\n",
      "y9  =  88.0\n",
      "y10  =  107.5\n"
     ]
    }
   ],
   "source": [
    "\"\"\"\n",
    "Problem Statement 2:  \n",
    "Given a sequence of n values x1, x2, ..., xn and a window size k>0, \n",
    "the k-th moving average of the given sequence is defined as follows:  \n",
    "The moving average sequence has n-k+1 elements as shown below.  \n",
    "The moving averages with k=4 of a ten-value sequence (n=10) is shown below  \n",
    "i 1  2  3  4  5  6  7  8  9 10  ===== == == == == == == == == == ==  I\n",
    "nput 10 20 30 40 50 60 70 80 90 100 \n",
    "y1      25 = (10+20+30+40)/4 \n",
    "y2      35 = (20+30+40+50)/4 \n",
    "y3      45 = (30+40+50+60)/4  \n",
    "y4      55 = (40+50+60+70)/4\n",
    "y5      65 = (50+60+70+80)/4 \n",
    "y6      75 = (60+70+80+90)/4\n",
    "y7      85 = (70+80+90+100)/4   \n",
    "Thus, the moving average sequence has n-k+1=10-4+1=7 values. \n",
    "Question: Write a function to find moving average in an array over a window:          \n",
    "Test it over [3, 5, 7, 2, 8, 10, 11, 65, 72, 81, 99, 100, 150] and window of 3. \n",
    "\"\"\"\n",
    "\n",
    "import numpy as np\n",
    "array=np.array([3, 5, 7, 2, 8, 10, 11, 65, 72, 81, 99, 100, 150])\n",
    "window=4\n",
    "k=len(array)-window+1\n",
    "inc=1\n",
    "start=0\n",
    "\n",
    "while(1==1):\n",
    "    end=start+window\n",
    "    sum1=0\n",
    "    if(start==k):\n",
    "        break\n",
    "    for i in range(start,end):\n",
    "        sum1=sum1+array[i]\n",
    "        #print(array[i],end=\" \")\n",
    "    print(\"y\",inc,sep=\"\",end=\"  =  \")\n",
    "    print(sum1/window)\n",
    "    start=start+1\n",
    "    inc=inc+1\n",
    "    #print(\"\\n\")\n",
    "        \n"
   ]
  },
  {
   "cell_type": "code",
   "execution_count": null,
   "metadata": {},
   "outputs": [],
   "source": []
  }
 ],
 "metadata": {
  "kernelspec": {
   "display_name": "Python 3",
   "language": "python",
   "name": "python3"
  },
  "language_info": {
   "codemirror_mode": {
    "name": "ipython",
    "version": 3
   },
   "file_extension": ".py",
   "mimetype": "text/x-python",
   "name": "python",
   "nbconvert_exporter": "python",
   "pygments_lexer": "ipython3",
   "version": "3.7.4"
  }
 },
 "nbformat": 4,
 "nbformat_minor": 2
}
