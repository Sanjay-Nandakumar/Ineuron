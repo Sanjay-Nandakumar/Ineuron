{
 "cells": [
  {
   "cell_type": "code",
   "execution_count": 8,
   "metadata": {},
   "outputs": [
    {
     "name": "stdout",
     "output_type": "stream",
     "text": [
      "Length of list: 20\n",
      "Mean: 6.85\n",
      "Median: 7.0\n",
      "Mode: 7\n",
      "Standard deviation: 1.6311119875071343\n"
     ]
    }
   ],
   "source": [
    "\"\"\"\n",
    "Calculate the mean, median, mode and standard deviation for the problem statements 1& 2.  \n",
    "Problem Statement 1:   \n",
    "The marks awarded for an assignment set for a Year 8 class of 20 students were as follows: 6 7 5 7 7 8 7 6 9 7 4 10 6 8 8 9 5 6 4 8   \n",
    "\"\"\"\n",
    "import numpy as np\n",
    "import statistics as st\n",
    "\n",
    "marks=[6,7,5,7,7,8,7,6,9,7,4,10,6,8,8,9,5,6,4,8 ]\n",
    "mean=np.mean(marks)\n",
    "median=np.median(marks)\n",
    "mode=st.mode(marks)\n",
    "statnndarddeviation=st.stdev(marks)\n",
    "\n",
    "print(\"Length of list:\",len(marks))\n",
    "print(\"Mean:\",mean)\n",
    "print(\"Median:\",median)\n",
    "print(\"Mode:\",mode)\n",
    "print(\"Standard deviation:\",statnndarddeviation)\n"
   ]
  },
  {
   "cell_type": "code",
   "execution_count": 9,
   "metadata": {},
   "outputs": [
    {
     "name": "stdout",
     "output_type": "stream",
     "text": [
      "Length of list: 35\n",
      "Mean: 107.51428571428572\n",
      "Median: 100.0\n",
      "Mode: 75\n",
      "Standard deviation: 39.33892805484412\n"
     ]
    }
   ],
   "source": [
    "\"\"\"Problem Statement 2:   \n",
    "The number of calls from motorists per day for roadside service was recorded for a particular month: 28, 122, 217, 130, 120, 86, 80, 90, 140, 120, 70, 40, 145, 113, 90, 68, 174, 194, 170, 100, 75, 104, 97, 75, 123, 100, 75, 104, 97, 75, 123, 100, 89, 120, 109\n",
    "\"\"\"\n",
    "import numpy as np\n",
    "import statistics as st\n",
    "calls=[28, 122, 217, 130, 120, 86, 80, 90, 140, 120, 70, 40, 145, 113, 90, 68, 174, 194, 170, 100, 75, 104, 97, 75, 123, 100, 75, 104, 97, 75, 123, 100, 89, 120, 109]\n",
    "\n",
    "mean=np.mean(calls)\n",
    "median=np.median(calls)\n",
    "mode=st.mode(calls)\n",
    "statnndarddeviation=st.stdev(calls)\n",
    "\n",
    "print(\"Length of list:\",len(calls))\n",
    "print(\"Mean:\",mean)\n",
    "print(\"Median:\",median)\n",
    "print(\"Mode:\",mode)\n",
    "print(\"Standard deviation:\",statnndarddeviation)"
   ]
  },
  {
   "cell_type": "code",
   "execution_count": 16,
   "metadata": {},
   "outputs": [
    {
     "name": "stdout",
     "output_type": "stream",
     "text": [
      "Probabilty of going 0 times is 0.09\n",
      "Probabilty of going 1 times is 0.15\n",
      "Probabilty of going 2 times is 0.4\n",
      "Probabilty of going 3 times is 0.25\n",
      "Probabilty of going 4 times is 0.1\n",
      "Probabilty of going 5 times is 0.01\n"
     ]
    }
   ],
   "source": [
    "\"\"\"\n",
    "Problem Statement 3:   \n",
    "The number of times I go to the gym in weekdays, are given below along with its associated probability: x = 0, 1, 2, 3, 4, 5 f(x) = 0.09, 0.15, 0.40, 0.25, 0.10, 0.01 Calculate the mean no. of workouts in a week. Also evaluate the variance involved in it.  \n",
    "\"\"\"\n",
    "\n",
    "ntimes=[0, 1, 2, 3, 4, 5]\n",
    "prob=[ 0.09, 0.15, 0.40, 0.25, 0.10, 0.01 ]\n",
    "\n",
    "probcount=[]\n",
    "sum=0\n",
    "\n",
    "for i in range(0,len(ntimes)):\n",
    "    print(\"Probabilty of going\",ntimes[i],\"times is\",prob[i])\n",
    "\n"
   ]
  },
  {
   "cell_type": "code",
   "execution_count": 10,
   "metadata": {},
   "outputs": [
    {
     "name": "stdout",
     "output_type": "stream",
     "text": [
      " Proportion of scrapped parts = -e * pow (-20 (x -12.5) = P(x > 12.6) = 0.135\n",
      " If the proportion is between 12.5 and 12.6 then,P(12.5<x<12.6) = 0.865\n",
      " CDF when diameter is 11 = 1- (-e * pow (-20 (x -11.5)) = ~75% or 0.75\n",
      " Concusion is that wheever diameter is reduced, the probale proprtion of scrapped parts will decrease\n"
     ]
    }
   ],
   "source": [
    "\"\"\"\n",
    "Problem Statement 4:  \n",
    "Let the continuous random variable D denote the diameter of the hole drilled in an aluminum sheet. \n",
    "The target diameter to be achieved is 12.5mm. \n",
    "Random disturbances in the process often result in inaccuracy. \n",
    "Historical data shows that the distribution of D can be modelled by the PDF (𝑑) = 20𝑒−20(𝑑−12.5), 𝑑 ≥ 12.5. \n",
    "If a part with diameter > 12.6 mm needs to be scrapped, what is the proportion of those parts? \n",
    "What is the CDF when the diameter is of 11 mm? What is your conclusion regarding the proportion of scraps? \n",
    "\"\"\"\n",
    "\n",
    "print(\" Proportion of scrapped parts = -e * pow (-20 (x -12.5) = P(x > 12.6) = 0.135\\n If the proportion is between 12.5 and 12.6 then,P(12.5<x<12.6) = 0.865\\n CDF when diameter is 11 = 1- (-e * pow (-20 (x -11.5)) = ~75% or 0.75\\n Concusion is that wheever diameter is reduced, the probale proprtion of scrapped parts will decrease\")"
   ]
  },
  {
   "cell_type": "code",
   "execution_count": 33,
   "metadata": {},
   "outputs": [
    {
     "name": "stdout",
     "output_type": "stream",
     "text": [
      "***************LED****************\n",
      "[1, 1, 1, 1, 1, 1, 1, 1, 0, 0, 0]\n",
      "According to Naive bayes theorem\n",
      "P(X|Y) = P(Y|X)P(X) /P(Y)\n",
      "p(2 faulty | 6 led) = p(6 led | 2 faulty ) p(6 led) / p(2 faulty) \n",
      "Assuming sample size = 10\n",
      "Probability of selecting any 6 LEDs : 0.6\n",
      "Probability of selecting any 2 faulty LEDs : 0.6666666666666666\n",
      "Probability of selecting any 6 LEDs given that 2 are faulty : 0.6666666666666666\n",
      "If I randomly select 6 chosen LEDs, the probability of having 2 faulty LEDs the sample : 0.6666666666666666\n",
      "Mean :  0.7272727272727273\n",
      "Standard deviation :  0.46709936649691375\n"
     ]
    }
   ],
   "source": [
    "\"\"\"Problem Statement 5:   \n",
    "A company manufactures LED bulbs with a faulty rate of 30%. \n",
    "If I randomly select 6 chosen LEDs, what is the probability of having 2 faulty LEDs in my sample? \n",
    "Calculate the average value of this process. Also evaluate the standard deviation associated with it. \n",
    "\"\"\"\n",
    "import statistics\n",
    "import numpy as np\n",
    "fault=0\n",
    "nonfault=1\n",
    "led=[]\n",
    "for i in range(0,8):\n",
    "    led.append(nonfault)\n",
    "for i in range(0,3):\n",
    "    led.append(fault)\n",
    "\n",
    "print(\"***************LED****************\")\n",
    "print(led)\n",
    "print(\"According to Naive bayes theorem\")\n",
    "print(\"P(X|Y) = P(Y|X)P(X) /P(Y)\")\n",
    "print(\"p(2 faulty | 6 led) = p(6 led | 2 faulty ) p(6 led) / p(2 faulty) \")\n",
    "\n",
    "print(\"Assuming sample size = 10\")\n",
    "prob6led= 6/10\n",
    "print(\"Probability of selecting any 6 LEDs :\",prob6led)\n",
    "\n",
    "prob2faulty=(2/3)\n",
    "print(\"Probability of selecting any 2 faulty LEDs :\",prob2faulty)\n",
    "\n",
    "prob6led2faulty=((6/10)*(2/3))/(2/3)\n",
    "print(\"Probability of selecting any 6 LEDs given that 2 are faulty :\",prob2faulty)\n",
    "\n",
    "output=(prob6led*prob2faulty)/prob6led2faulty\n",
    "print(\"If I randomly select 6 chosen LEDs, the probability of having 2 faulty LEDs the sample :\",output)\n",
    "\n",
    "mean=np.mean(led)\n",
    "print(\"Mean : \",mean)\n",
    "\n",
    "stddeviation=statistics.stdev(led)\n",
    "print(\"Standard deviation : \",stddeviation)"
   ]
  },
  {
   "cell_type": "code",
   "execution_count": 88,
   "metadata": {},
   "outputs": [
    {
     "name": "stdout",
     "output_type": "stream",
     "text": [
      "Gauvav's correction rate =  6.0 out of 8\n",
      "Barakha's correction rate =  5.4 out of 12\n",
      "Probility of Gaurav solving 5 ques correctly   =  0.46875\n",
      "Probility of Barakha solving 5 ques correctly  =  0.1875\n",
      "Probility of Gaurav solving 4 ques correctly   =  0.375\n",
      "Probility of Gaurav solving 6 ques correctly   =  0.5625\n",
      "Probility of Barakha solving 4 ques correctly  =  0.15\n",
      "Probility of Barakha solving 6 ques correctly  =  0.225\n",
      "\n",
      " The main governing factor is their correction rate \n",
      "\n",
      "[0.09375, 0.1875, 0.28125, 0.375, 0.46875, 0.5625, 0.65625, 0.75]\n",
      "[0.0375, 0.075, 0.1125, 0.15, 0.1875, 0.225, 0.2625, 0.3, 0.3375, 0.375, 0.4125, 0.45]\n"
     ]
    },
    {
     "data": {
      "text/plain": [
       "Text(0.5, 1.0, 'Probablity distribution of Barakha')"
      ]
     },
     "execution_count": 88,
     "metadata": {},
     "output_type": "execute_result"
    },
    {
     "data": {
      "image/png": "[encoded data removed]",
      "text/plain": [
       "<Figure size 432x288 with 2 Axes>"
      ]
     },
     "metadata": {
      "needs_background": "light"
     },
     "output_type": "display_data"
    }
   ],
   "source": [
    "\"\"\"Problem Statement 6: \n",
    "Gaurav and Barakha are both preparing for entrance exams.\n",
    "Gaurav attempts to solve 8 questions per day with a correction rate of 75%, \n",
    "while Barakha averages around 12 questions per day with a correction rate of 45%.\n",
    "What is the probability that each of them will solve 5 questions correctly? \n",
    "What happens in cases of 4 and 6 correct solutions? What do you infer from it?\n",
    "What are the two main governing factors affecting their ability to solve questions correctly?\n",
    "Give a pictorial representation of the same to validate your answer. \n",
    "\"\"\"\n",
    "import matplotlib.pyplot as plt\n",
    "import numpy as np\n",
    "\n",
    "Gauravcrate=8*(75/100)\n",
    "Barakhacrate=12*(45/100)\n",
    "print(\"Gauvav's correction rate = \",Gauravcrate,\"out of 8\")\n",
    "print(\"Barakha's correction rate = \",Barakhacrate,\"out of 12\")\n",
    "Gprob5=(5/8)*(75/100)\n",
    "Bprob5=(5/12)*(45/100)\n",
    "print('Probility of Gaurav solving 5 ques correctly   = ',Gprob5)\n",
    "print('Probility of Barakha solving 5 ques correctly  = ',Bprob5)\n",
    "\n",
    "Gprob4=(4/8)*(75/100)\n",
    "Gprob6=(6/8)*(75/100)\n",
    "print('Probility of Gaurav solving 4 ques correctly   = ',Gprob4)\n",
    "print('Probility of Gaurav solving 6 ques correctly   = ',Gprob6)\n",
    "\n",
    "Bprob4=(4/12)*(45/100)\n",
    "Bprob6=(6/12)*(45/100)\n",
    "print('Probility of Barakha solving 4 ques correctly  = ',Bprob4)\n",
    "print('Probility of Barakha solving 6 ques correctly  = ',Bprob6)\n",
    "\n",
    "print(\"\\n The main governing factor is their correction rate \\n\")\n",
    "\n",
    "Gquestions=np.arange(1,9)\n",
    "Gprob=[]\n",
    "for i in range(1,9):\n",
    "    Gprob.append((i/8)*(75/100))\n",
    "print(Gprob)\n",
    "\n",
    "Bquestions=np.arange(1,13)\n",
    "Bprob=[]\n",
    "for i in range(1,13):\n",
    "    Bprob.append((i/12)*(45/100))\n",
    "print(Bprob)\n",
    "\n",
    "\n",
    "ax1 = plt.subplot(3,1,1)\n",
    "ax2 = plt.subplot(3,1,3)\n",
    "\n",
    "ax1.bar(Gquestions,Gprob)\n",
    "ax1.set_title(\"Probablity distribution of Gaurav\")\n",
    "\n",
    "ax2.bar(Bquestions,Bprob)\n",
    "ax2.set_title(\"Probablity distribution of Barakha\")"
   ]
  },
  {
   "cell_type": "code",
   "execution_count": 56,
   "metadata": {},
   "outputs": [
    {
     "name": "stdout",
     "output_type": "stream",
     "text": [
      "Customers arriving /hour = 72\n",
      "Customers arriving /min = 1.2\n",
      "Customers arriving /4 min = 4.8\n",
      "\n",
      " Answer = c) more than 3 customers \n"
     ]
    },
    {
     "data": {
      "image/png": "[encoded data removed]",
      "text/plain": [
       "<Figure size 432x288 with 1 Axes>"
      ]
     },
     "metadata": {
      "needs_background": "light"
     },
     "output_type": "display_data"
    }
   ],
   "source": [
    "\"\"\"\n",
    "Problem Statement 7:  \n",
    "Customers arrive at a rate of 72 per hour to my shop. \n",
    "What is the probability of 𝑘 customers arriving in 4 minutes? \n",
    "a) 5 customers, b) not more than 3 customers, c) more than 3 customers. \n",
    "Give a pictorial representation of the same to validate your answer.  \n",
    "\"\"\"\n",
    "import matplotlib.pyplot as plt\n",
    "import numpy as np\n",
    "\n",
    "print(\"Customers arriving /hour = 72\")\n",
    "print(\"Customers arriving /min =\",72/60)\n",
    "print(\"Customers arriving /4 min =\",(72/60)*4)\n",
    "print(\"\\n Answer = c) more than 3 customers \")\n",
    "\n",
    "sum= 72/60\n",
    "customersarriving=[72/60]\n",
    "for i in range(0,59):\n",
    "    sum=sum+(72/60)\n",
    "    customersarriving.append(sum)\n",
    "#print(customersarriving)\n",
    "min=np.arange(0,60)\n",
    "\n",
    "\n",
    "barlist=plt.bar(customersarriving,min)\n",
    "barlist[4].set_color('r')    \n",
    "plt.show()"
   ]
  },
  {
   "cell_type": "code",
   "execution_count": 6,
   "metadata": {},
   "outputs": [
    {
     "name": "stdout",
     "output_type": "stream",
     "text": [
      "This is a case of poisson distribution\n",
      "77 words = 60 seconds\n",
      "Therefore, 455 words = 590 seconds = apprximately 6 minutes\n",
      "Number of error =2 \n",
      "Rate of succeess = 453\n",
      "P(commit 2 errors in a 455-word financial report) = Poisson Probability: P(X = 455, R=2) = 0.18 = 18% \n",
      "P(commit 2 errors in a 1000-word financial report) = Poisson Probability: P(X = 1000,R=2) = 0.01259 = 1.259%\n",
      "P(commit 2 errors in a 255-word financial report) = Poisson Probability: P(X = 255, R=2) = 0.2478 = 24.78%\n",
      "λ will be increased when the number of words increase in the event PMF will decrease when the number of words increase in the event\n"
     ]
    }
   ],
   "source": [
    "\"\"\"Problem Statement 8:\n",
    "\n",
    "I work as a data analyst in Aeon Learning Pvt. Ltd. After analyzing data, I make\n",
    "reports, where I have the efficiency of entering 77 words per minute with 6 errors per\n",
    "hour. What is the probability that I will commit 2 errors in a 455-word financial report?\n",
    "What happens when the no. of words increases/decreases (in case of 1000 words,\n",
    "255 words)?\n",
    "How is the λ affected?\n",
    "How does it influence the PMF?\n",
    "Give a pictorial representation of the same to validate your answer.\n",
    "\"\"\"\n",
    "\n",
    "print(\"This is a case of poisson distribution\")\n",
    "print(\"77 words = 60 seconds\")\n",
    "print(\"Therefore, 455 words = 590 seconds = apprximately 6 minutes\")\n",
    "print(\"Number of error =2 \")\n",
    "print(\"Rate of succeess = 453\")\n",
    "print(\"P(commit 2 errors in a 455-word financial report) = Poisson Probability: P(X = 455, R=2) = 0.18 = 18% \")\n",
    "print(\"P(commit 2 errors in a 1000-word financial report) = Poisson Probability: P(X = 1000,R=2) = 0.01259 = 1.259%\")\n",
    "print(\"P(commit 2 errors in a 255-word financial report) = Poisson Probability: P(X = 255, R=2) = 0.2478 = 24.78%\")\n",
    "\n",
    "print(\"λ will be increased when the number of words increase in the event PMF will decrease when the number of words increase in the event\")"
   ]
  },
  {
   "cell_type": "code",
   "execution_count": 4,
   "metadata": {},
   "outputs": [
    {
     "name": "stdout",
     "output_type": "stream",
     "text": [
      " Proportion of scrapped parts = -e * pow (-20 (x -12.5) = P(x > 12.6) = 0.135\n",
      " If the proportion is between 12.5 and 12.6 then,P(12.5<x<12.6) = 0.865\n",
      " CDF when diameter is 11 = 1- (-e * pow (-20 (x -11.5)) = ~75% or 0.75\n",
      " Concusion is that wheever diameter is reduced, the probale proprtion of scrapped parts will decrease\n"
     ]
    }
   ],
   "source": [
    "\"\"\"Problem Statement 9:\n",
    "\n",
    "Let the continuous random variable D denote the diameter of the hole drilled in an\n",
    "aluminum sheet. The target diameter to be achieved is 12.5mm. Random\n",
    "disturbances in the process often result in inaccuracy.\n",
    "Historical data shows that the distribution of D can be modelled by the PDF, f(d) =\n",
    "20e−20(d−12.5), d ≥ 12.5. If a part with diameter > 12.6 mm needs to be scrapped,\n",
    "what is the proportion of those parts? What is the CDF when the diameter is of 11\n",
    "mm?\n",
    "What is the conclusion of this experiment?\n",
    "\"\"\"\n",
    "print(\" Proportion of scrapped parts = -e * pow (-20 (x -12.5) = P(x > 12.6) = 0.135\\n If the proportion is between 12.5 and 12.6 then,P(12.5<x<12.6) = 0.865\\n CDF when diameter is 11 = 1- (-e * pow (-20 (x -11.5)) = ~75% or 0.75\\n Concusion is that wheever diameter is reduced, the probale proprtion of scrapped parts will decrease\")"
   ]
  },
  {
   "cell_type": "code",
   "execution_count": 64,
   "metadata": {},
   "outputs": [
    {
     "name": "stdout",
     "output_type": "stream",
     "text": [
      " a1)   P(Z > 1.26) \n",
      "       P( 1 - 0.8962) = 10.38%\n",
      "\n",
      " a2)   P(Z > -1.37) \n",
      "       P( 1 - 0.9147) =  8.53%\n",
      "\n",
      " a3)   P(−1.25 < Z < 0.37) \n",
      "        P(0.8944 - 0.6443) =  25.51%\n",
      "\n",
      " a4)   P(Z ≤ −4.6) \n",
      "     Value is an outlier. Probability must be zero \n",
      "\n",
      "  b)    1.68\n",
      "\n",
      "  c)    3 sigma means 99% in normal distribution \n",
      "        P(−z < Z < z) = 0.99 \n",
      "       z=3\n"
     ]
    }
   ],
   "source": [
    "\"\"\"Problem Statement 10:\n",
    "\n",
    "Please compute the following:\n",
    "a) P(Z > 1.26), . P(Z < −0.86), P(Z > −1.37), P(−1.25 < Z < 0.37), . P(Z ≤ −4.6)\n",
    "b) Find the value z such that P(Z > z) = 0.05\n",
    "c) Find the value of z such that P(−z < Z < z) = 0.99\n",
    "\"\"\"\n",
    "answera1= \" a1)   P(Z > 1.26) \\n       P( 1 - 0.8962) = 10.38%\\n\"\n",
    "answera2= \" a2)   P(Z > -1.37) \\n       P( 1 - 0.9147) =  8.53%\\n\"\n",
    "answera3= \" a3)   P(−1.25 < Z < 0.37) \\n        P(0.8944 - 0.6443) =  25.51%\\n\"\n",
    "answera4= \" a4)   P(Z ≤ −4.6) \\n     Value is an outlier. Probability must be zero \\n\"\n",
    "answerb= \"  b)    1.68\\n\"\n",
    "answerc= \"  c)    3 sigma means 99% in normal distribution \\n        P(−z < Z < z) = 0.99 \\n       z=3\"\n",
    "print(answera1)\n",
    "print(answera2)\n",
    "print(answera3)\n",
    "print(answera4)\n",
    "print(answerb)\n",
    "print(answerc)"
   ]
  },
  {
   "cell_type": "code",
   "execution_count": 42,
   "metadata": {},
   "outputs": [
    {
     "name": "stdout",
     "output_type": "stream",
     "text": [
      "a) mean =10 stddev =2\n",
      "  P(m > 13)= 1 - 0.93 = 7% \n",
      "\n",
      " b)  P(9<m<11)= p(0.84 - 0.69) = 15% \n",
      "\n",
      "c) p(Z>0.98) = 2.09 \n",
      "   std deviation = 10 +- 2.09 =  \n",
      "   8.91 < = measurement <= 12.09 \n",
      "\n"
     ]
    }
   ],
   "source": [
    "\"\"\"Problem Statement 11:\n",
    "\n",
    "The current flow in a copper wire follow a normal distribution with a mean of 10 mA\n",
    "and a variance of 4 (mA)2.\n",
    "a) What is the probability that a current measurement will exceed 13 mA?   \n",
    "b) What is the probability that a current measurement is between 9 and 11mA? \n",
    "c) Determine the current measurement which has a probability of 0.98.\n",
    "\"\"\"\n",
    "answera = \"a) mean =10 stddev =2\\n  P(m > 13)= 1 - 0.93 = 7% \\n\"\n",
    "answerb = \" b)  P(9<m<11)= p(0.84 - 0.69) = 15% \\n\"\n",
    "answerc = \"c) p(Z>0.98) = 2.09 \\n   std deviation = 10 +- 2.09 =  \\n   8.91 < = measurement <= 12.09 \\n\"   \n",
    "\n",
    "print(answera)\n",
    "print(answerb)\n",
    "print(answerc)\n"
   ]
  },
  {
   "cell_type": "code",
   "execution_count": 55,
   "metadata": {},
   "outputs": [
    {
     "name": "stdout",
     "output_type": "stream",
     "text": [
      " a) Range of distribution = (0.2493,0.2523) \n",
      " Given condition range= (0.2485,0.2515) \n",
      " This is more than 4 standard dev apart in left side  and 3 standard dev from right side of the normal distribution. \n",
      " This is an outlier.\n",
      "Hence proportion becomes approximately 99.5% \n",
      "\n",
      "b) If the mean is centred then the range becomes (0.2485,0.2515).\n",
      " The conclusion is that there will be no outliers as in previous experiment if mean is centred.Most of the data fall with in 3 sigma\n"
     ]
    }
   ],
   "source": [
    "\"\"\"Problem Statement 12:\n",
    "\n",
    "The shaft in a piston has its diameter normally distributed with a mean of 0.2508 inch\n",
    "and a standard deviation of 0.0005 inch. \n",
    "The specifications of the shaft are 0.2500 ∓0.0015 inch. \n",
    "a) What proportion of shafts are in sync with the specifications? \n",
    "\n",
    "b)If the process is centered so that the mean is equal to the target value of 0.2500, what\n",
    "proportion of shafts conform to the new specifications? What is your conclusion from\n",
    "this experiment?\n",
    "\"\"\"\n",
    "\n",
    "answera= \" a) Range of distribution = (0.2493,0.2523) \\n Given condition range= (0.2485,0.2515) \\n This is more than 4 standard dev apart in left side  and 3 standard dev from right side of the normal distribution. \\n This is an outlier.\\nHence proportion becomes approximately 99.5% \\n\"\n",
    "print(answera)\n",
    "\n",
    "answerb=\"b) If the mean is centred then the range becomes (0.2485,0.2515).\\n The conclusion is that there will be no outliers as in previous experiment if mean is centred.Most of the data fall with in 3 sigma\"\n",
    "print(answerb)"
   ]
  },
  {
   "cell_type": "code",
   "execution_count": null,
   "metadata": {},
   "outputs": [],
   "source": []
  }
 ],
 "metadata": {
  "kernelspec": {
   "display_name": "Python 3",
   "language": "python",
   "name": "python3"
  },
  "language_info": {
   "codemirror_mode": {
    "name": "ipython",
    "version": 3
   },
   "file_extension": ".py",
   "mimetype": "text/x-python",
   "name": "python",
   "nbconvert_exporter": "python",
   "pygments_lexer": "ipython3",
   "version": "3.7.4"
  }
 },
 "nbformat": 4,
 "nbformat_minor": 2
}
