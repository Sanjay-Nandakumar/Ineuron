{
 "cells": [
  {
   "cell_type": "code",
   "execution_count": 1,
   "metadata": {},
   "outputs": [],
   "source": [
    "#Creted by : Sanjay Kumar N"
   ]
  },
  {
   "cell_type": "code",
   "execution_count": 2,
   "metadata": {},
   "outputs": [],
   "source": [
    "import numpy as np  \n",
    "import pandas as pd  "
   ]
  },
  {
   "cell_type": "code",
   "execution_count": 3,
   "metadata": {},
   "outputs": [],
   "source": [
    "#Python method to get the csv path\n",
    "def getData(path):\n",
    "    path=path\n",
    "    inputData = pd.read_csv(path)\n",
    "    initData=inputData\n",
    "    return inputData,initData"
   ]
  },
  {
   "cell_type": "code",
   "execution_count": 4,
   "metadata": {},
   "outputs": [],
   "source": [
    "#Python method for handling nan values\n",
    "#Numerical columns replaced with mean\n",
    "#String columns replaced with mode\n",
    "from collections import Counter\n",
    "def dataCleaning(inputData,features,uniqueId,target):\n",
    "    \n",
    "    #if(uniqueId!=\"\"):\n",
    "    #    inputData = inputData.drop(uniqueId, axis=1)\n",
    "    updatedData =  inputData[target]   \n",
    "    dataForClean=pd.DataFrame()\n",
    "    dataForClean=pd.concat([dataForClean,pd.DataFrame(inputData[uniqueId])],axis=1)\n",
    "    for i in range(0,len(features)):\n",
    "        dataForClean=pd.concat([dataForClean,pd.DataFrame(inputData[features[i]])],axis=1)\n",
    "    dataForClean=pd.concat([dataForClean,pd.DataFrame(inputData[target])],axis=1)\n",
    "    inputData=dataForClean\n",
    "    for i in range(0,len(inputData.columns)):\n",
    "        colName=inputData.columns[i]\n",
    "        if( (inputData[colName].dtype.name==\"object\" and inputData[colName].dtype.name!= target) and colName != uniqueId):\n",
    "            mode=Counter(inputData[colName])\n",
    "            modeval= mode.most_common(1)[0][0]\n",
    "            inputData[colName]= inputData[colName].replace(np.NaN, modeval)\n",
    "        else:\n",
    "            inputData[colName]= inputData[colName].replace(np.NaN, np.mean(inputData[colName]))\n",
    "    \n",
    "    return inputData,updatedData"
   ]
  },
  {
   "cell_type": "code",
   "execution_count": 5,
   "metadata": {},
   "outputs": [],
   "source": [
    "#Python method for pre-processing the data\n",
    "#Categorical variables are label and one hot encoded\n",
    "def dataPreProcess(inputData,target):\n",
    "    from sklearn import preprocessing \n",
    "    labelencoder= preprocessing.LabelEncoder()\n",
    "    onehotencoder = preprocessing.OneHotEncoder(sparse=False)\n",
    "    notencoded = pd.DataFrame()\n",
    "    encoded = pd.DataFrame()\n",
    "    colNames=[]\n",
    "    for i in range(0,len(inputData.columns)):\n",
    "        colNames.append(inputData.columns[i])\n",
    "        \n",
    "    for i in range(0,len(colNames)):\n",
    "        colName=colNames[i]\n",
    "        if( (inputData[colName].dtype.name==\"object\" and inputData[colName].dtype.name!= target) and colNames[i] != uniqueId):\n",
    "            df =  labelencoder.fit_transform(inputData[colName])\n",
    "            df = np.array(inputData[colName])\n",
    "            df =   df.reshape(len(df),1)\n",
    "            onehot_encoded = onehotencoder.fit_transform(df)\n",
    "            onehot_encoded = pd.DataFrame(onehot_encoded)\n",
    "            #onehot_encoded = onehot_encoded.drop(len(onehot_encoded.columns)-1,axis=1)\n",
    "            encoded=pd.concat([onehot_encoded,encoded],axis=1)       \n",
    "        else:\n",
    "            notencoded=  pd.concat([notencoded,inputData[colName]],axis=1)\n",
    "    combinedData=pd.concat([encoded,notencoded],axis=1)\n",
    "    updatedData=pd.DataFrame()\n",
    "    updatedData=pd.concat([updatedData,combinedData],axis=1) \n",
    "    Y = pd.DataFrame() \n",
    "    Y = pd.DataFrame(updatedData[target])\n",
    "    del updatedData[target]\n",
    "    X = pd.DataFrame()\n",
    "    X = updatedData \n",
    "   \n",
    "    return X,Y"
   ]
  },
  {
   "cell_type": "code",
   "execution_count": 6,
   "metadata": {},
   "outputs": [],
   "source": [
    "def datasplit(X,Y,size):\n",
    "    from sklearn.model_selection import train_test_split\n",
    "    X_train, X_test, Y_train, Y_test = train_test_split( X, Y, test_size=size, shuffle=False)\n",
    "    return X_train, X_test, Y_train, Y_test"
   ]
  },
  {
   "cell_type": "code",
   "execution_count": 7,
   "metadata": {},
   "outputs": [],
   "source": [
    "#Python method for performing logistic regression\n",
    "def KnnRegression(X_train, X_test, Y_train, Y_test): \n",
    "    from sklearn import neighbors\n",
    "    from sklearn.metrics import mean_squared_error \n",
    "    from math import sqrt\n",
    "    from sklearn.neighbors import NearestNeighbors\n",
    "    \n",
    "    model = neighbors.KNeighborsRegressor(n_neighbors = 3)\n",
    "    model.fit(X_train, Y_train)  #fit the model\n",
    "    pred=model.predict(X_test) #make prediction on test set\n",
    "    error = sqrt(mean_squared_error(Y_test,pred)) #calculate rmse\n",
    "       \n",
    "    return pred,error"
   ]
  },
  {
   "cell_type": "code",
   "execution_count": 8,
   "metadata": {},
   "outputs": [
    {
     "name": "stdout",
     "output_type": "stream",
     "text": [
      "             player pos  age bref_team_id   g  gs    mp   fg   fga    fg.  \\\n",
      "0        Quincy Acy  SF   23          TOT  63   0   847   66   141  0.468   \n",
      "1      Steven Adams   C   20          OKC  81  20  1197   93   185  0.503   \n",
      "2       Jeff Adrien  PF   27          TOT  53  12   961  143   275  0.520   \n",
      "3     Arron Afflalo  SG   28          ORL  73  73  2552  464  1011  0.459   \n",
      "4     Alexis Ajinca   C   25          NOP  56  30   951  136   249  0.546   \n",
      "..              ...  ..  ...          ...  ..  ..   ...  ...   ...    ...   \n",
      "476     Tony Wroten  SG   20          PHI  72  16  1765  345   808  0.427   \n",
      "477      Nick Young  SG   28          LAL  64   9  1810  387   889  0.435   \n",
      "478  Thaddeus Young  PF   25          PHI  79  78  2718  582  1283  0.454   \n",
      "479     Cody Zeller   C   21          CHA  82   3  1416  172   404  0.426   \n",
      "480    Tyler Zeller   C   24          CLE  70   9  1049  156   290  0.538   \n",
      "\n",
      "     ...  drb  trb  ast  stl  blk  tov   pf   pts     season  season_end  \n",
      "0    ...  144  216   28   23   26   30  122   171  2013-2014        2013  \n",
      "1    ...  190  332   43   40   57   71  203   265  2013-2014        2013  \n",
      "2    ...  204  306   38   24   36   39  108   362  2013-2014        2013  \n",
      "3    ...  230  262  248   35    3  146  136  1330  2013-2014        2013  \n",
      "4    ...  183  277   40   23   46   63  187   328  2013-2014        2013  \n",
      "..   ...  ...  ...  ...  ...  ...  ...  ...   ...        ...         ...  \n",
      "476  ...  159  228  217   78   16  204  151   939  2013-2014        2013  \n",
      "477  ...  137  166   95   46   12   95  156  1144  2013-2014        2013  \n",
      "478  ...  310  476  182  167   36  165  213  1417  2013-2014        2013  \n",
      "479  ...  235  353   92   40   41   87  170   490  2013-2014        2013  \n",
      "480  ...  179  282   36   18   38   60  137   399  2013-2014        2013  \n",
      "\n",
      "[481 rows x 31 columns]\n",
      ".........InputData............\n",
      "          player pos  age bref_team_id   g  gs    mp   fg   fga    fg.  ...  \\\n",
      "0     Quincy Acy  SF   23          TOT  63   0   847   66   141  0.468  ...   \n",
      "1   Steven Adams   C   20          OKC  81  20  1197   93   185  0.503  ...   \n",
      "2    Jeff Adrien  PF   27          TOT  53  12   961  143   275  0.520  ...   \n",
      "3  Arron Afflalo  SG   28          ORL  73  73  2552  464  1011  0.459  ...   \n",
      "4  Alexis Ajinca   C   25          NOP  56  30   951  136   249  0.546  ...   \n",
      "\n",
      "   drb  trb  ast  stl  blk  tov   pf   pts     season  season_end  \n",
      "0  144  216   28   23   26   30  122   171  2013-2014        2013  \n",
      "1  190  332   43   40   57   71  203   265  2013-2014        2013  \n",
      "2  204  306   38   24   36   39  108   362  2013-2014        2013  \n",
      "3  230  262  248   35    3  146  136  1330  2013-2014        2013  \n",
      "4  183  277   40   23   46   63  187   328  2013-2014        2013  \n",
      "\n",
      "[5 rows x 31 columns]\n",
      ".............Unique and target variables..............\n",
      "UniqueId:  UniqueId\n",
      "Target variable:  pts\n",
      ".........Input Data............\n",
      "   UniqueId pos  age bref_team_id   g  gs    mp   fg   fga   pts\n",
      "0       1.0  SF   23          TOT  63   0   847   66   141   171\n",
      "1       2.0   C   20          OKC  81  20  1197   93   185   265\n",
      "2       3.0  PF   27          TOT  53  12   961  143   275   362\n",
      "3       4.0  SG   28          ORL  73  73  2552  464  1011  1330\n",
      "4       5.0   C   25          NOP  56  30   951  136   249   328\n",
      ".........Output Data............\n",
      "   UniqueId  Actual   Predicted\n",
      "0     385.0     767  705.666667\n",
      "1     386.0     383  427.000000\n",
      "2     387.0     249  189.000000\n",
      "3     388.0    1021  929.666667\n",
      "4     389.0       1    2.333333\n",
      ".............Evaluation metrics..............\n",
      "RMSE :  83.1942963834935\n"
     ]
    }
   ],
   "source": [
    "#Calling all the fuctions step by step\n",
    "path=\"F:\\\\Datasets\\\\nba_2013.csv\"\n",
    "uniqueId = \"\"\n",
    "target = \"pts\"\n",
    "features = [\"pos\",\"age\",\"bref_team_id\",\"g\",\"gs\",\"mp\",\"fg\",\"fga\"]\n",
    "testsize=0.2\n",
    "data,initData = getData(path)\n",
    "print(data)\n",
    "\n",
    "if(uniqueId==\"\"):\n",
    "    uniqueId=uniqueId\n",
    "    uniqueIdGenerator=np.arange(1,len(data))\n",
    "    UqId=pd.DataFrame(list(uniqueIdGenerator),columns=[\"UniqueId\"])\n",
    "    data=pd.concat([UqId,data],axis=1)\n",
    "    uniqueId=data.columns[0]\n",
    "    \n",
    "data,updatedData=dataCleaning(data,features,uniqueId,target)\n",
    "\n",
    "X,Y=dataPreProcess(data,target)\n",
    "X_train, X_test, Y_train, Y_test=datasplit(X,Y,testsize)\n",
    "predictions,error=KnnRegression(X_train, X_test, Y_train, Y_test)\n",
    "n=len(data)\n",
    "p=len(features)\n",
    "output1=pd.DataFrame(list(Y_test[target]),columns=[\"Actual\"])\n",
    "output2=pd.DataFrame(list(predictions),columns=[\"Predicted\"])\n",
    "prednactual=pd.concat([output1,output2],axis=1)\n",
    "testStart=data[uniqueId][len(X_train):len(data)]\n",
    "testStart=pd.DataFrame(testStart,columns=[uniqueId])\n",
    "testStart.reset_index(drop=True, inplace=True)\n",
    "prednactual.reset_index(drop=True, inplace=True)\n",
    "prednactualfinal=pd.concat([testStart,prednactual],axis=1)\n",
    "\n",
    "print(\".........InputData............\")\n",
    "print(initData.head(5))\n",
    "\n",
    "print(\".............Unique and target variables..............\")\n",
    "print(\"UniqueId: \",uniqueId)\n",
    "print(\"Target variable: \",target)\n",
    "\n",
    "print(\".........Input Data............\")\n",
    "print(data.head(5))\n",
    "\n",
    "\n",
    "print(\".........Output Data............\")\n",
    "print(prednactualfinal.head(5))\n",
    "\n",
    "print(\".............Evaluation metrics..............\")\n",
    "print(\"RMSE : \",error)\n",
    "\n"
   ]
  },
  {
   "cell_type": "code",
   "execution_count": 10,
   "metadata": {},
   "outputs": [
    {
     "data": {
      "image/png": "[encoded data removed]",
      "text/plain": [
       "<Figure size 720x288 with 2 Axes>"
      ]
     },
     "metadata": {
      "needs_background": "light"
     },
     "output_type": "display_data"
    }
   ],
   "source": [
    "import matplotlib.pyplot as plt\n",
    "fig, axes = plt.subplots(2, 1, figsize=(10,4))\n",
    "y_axis_pred = prednactualfinal[\"Predicted\"]\n",
    "y_axis_actual = prednactualfinal[\"Actual\"]\n",
    "x_axis= prednactualfinal[uniqueId]\n",
    "axes[0].plot(x_axis,y_axis_pred)\n",
    "axes[0].plot(x_axis,y_axis_actual)\n",
    "axes[1].scatter(x_axis,y_axis_pred)\n",
    "axes[1].scatter(x_axis,y_axis_actual)\n",
    "plt.show()\n"
   ]
  },
  {
   "cell_type": "code",
   "execution_count": null,
   "metadata": {},
   "outputs": [],
   "source": []
  }
 ],
 "metadata": {
  "kernelspec": {
   "display_name": "Python 3",
   "language": "python",
   "name": "python3"
  },
  "language_info": {
   "codemirror_mode": {
    "name": "ipython",
    "version": 3
   },
   "file_extension": ".py",
   "mimetype": "text/x-python",
   "name": "python",
   "nbconvert_exporter": "python",
   "pygments_lexer": "ipython3",
   "version": "3.7.4"
  }
 },
 "nbformat": 4,
 "nbformat_minor": 2
}
